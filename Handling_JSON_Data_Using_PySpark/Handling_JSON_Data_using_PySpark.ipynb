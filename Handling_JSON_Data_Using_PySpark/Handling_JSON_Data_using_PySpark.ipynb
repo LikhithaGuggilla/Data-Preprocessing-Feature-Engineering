{
  "nbformat": 4,
  "nbformat_minor": 0,
  "metadata": {
    "colab": {
      "provenance": []
    },
    "kernelspec": {
      "name": "python3",
      "display_name": "Python 3"
    },
    "language_info": {
      "name": "python"
    }
  },
  "cells": [
    {
      "cell_type": "markdown",
      "source": [
        "# Exploring JSON Files\n",
        "----------------------------------\n",
        "\n",
        "The purpose of this excercise is to get comfortable working with JSON files. Let's keep the scope small and focus on two JSON files, and if you want to go out on your own and easily scrape 500 free search engine result pages (SERP), then check out the appendix for SERP API!"
      ],
      "metadata": {
        "id": "r6iDyeIiLmZx"
      }
    },
    {
      "cell_type": "markdown",
      "source": [
        "# Download Data"
      ],
      "metadata": {
        "id": "-cncQ4qjNtFn"
      }
    },
    {
      "cell_type": "code",
      "source": [
        "!pip install gdown==5.1.0"
      ],
      "metadata": {
        "colab": {
          "base_uri": "https://localhost:8080/"
        },
        "id": "47eyTnekWi8Y",
        "outputId": "b09089b7-8094-4f0d-d30d-b886b346da4f"
      },
      "execution_count": null,
      "outputs": [
        {
          "output_type": "stream",
          "name": "stdout",
          "text": [
            "Requirement already satisfied: gdown==5.1.0 in /usr/local/lib/python3.10/dist-packages (5.1.0)\n",
            "Requirement already satisfied: beautifulsoup4 in /usr/local/lib/python3.10/dist-packages (from gdown==5.1.0) (4.12.3)\n",
            "Requirement already satisfied: filelock in /usr/local/lib/python3.10/dist-packages (from gdown==5.1.0) (3.13.1)\n",
            "Requirement already satisfied: requests[socks] in /usr/local/lib/python3.10/dist-packages (from gdown==5.1.0) (2.31.0)\n",
            "Requirement already satisfied: tqdm in /usr/local/lib/python3.10/dist-packages (from gdown==5.1.0) (4.66.2)\n",
            "Requirement already satisfied: soupsieve>1.2 in /usr/local/lib/python3.10/dist-packages (from beautifulsoup4->gdown==5.1.0) (2.5)\n",
            "Requirement already satisfied: charset-normalizer<4,>=2 in /usr/local/lib/python3.10/dist-packages (from requests[socks]->gdown==5.1.0) (3.3.2)\n",
            "Requirement already satisfied: idna<4,>=2.5 in /usr/local/lib/python3.10/dist-packages (from requests[socks]->gdown==5.1.0) (3.6)\n",
            "Requirement already satisfied: urllib3<3,>=1.21.1 in /usr/local/lib/python3.10/dist-packages (from requests[socks]->gdown==5.1.0) (2.0.7)\n",
            "Requirement already satisfied: certifi>=2017.4.17 in /usr/local/lib/python3.10/dist-packages (from requests[socks]->gdown==5.1.0) (2024.2.2)\n",
            "Requirement already satisfied: PySocks!=1.5.7,>=1.5.6 in /usr/local/lib/python3.10/dist-packages (from requests[socks]->gdown==5.1.0) (1.7.1)\n"
          ]
        }
      ]
    },
    {
      "cell_type": "code",
      "source": [
        "!gdown 1ejm645rRkuIdt1VETpICmJbLGyxMCf7F\n",
        "!gdown 1nGfw8MOq_gYV55uJuFQ_1wgjpSIsvVw1"
      ],
      "metadata": {
        "colab": {
          "base_uri": "https://localhost:8080/"
        },
        "id": "XBaZ2OGxLs0j",
        "outputId": "7c765fe9-fd36-4b66-d7c1-0997ee8d64d7"
      },
      "execution_count": null,
      "outputs": [
        {
          "output_type": "stream",
          "name": "stdout",
          "text": [
            "Downloading...\n",
            "From: https://drive.google.com/uc?id=1ejm645rRkuIdt1VETpICmJbLGyxMCf7F\n",
            "To: /content/Ukraine.json\n",
            "100% 33.5k/33.5k [00:00<00:00, 37.0MB/s]\n",
            "Downloading...\n",
            "From: https://drive.google.com/uc?id=1nGfw8MOq_gYV55uJuFQ_1wgjpSIsvVw1\n",
            "To: /content/London.json\n",
            "100% 30.6k/30.6k [00:00<00:00, 44.5MB/s]\n"
          ]
        }
      ]
    },
    {
      "cell_type": "markdown",
      "source": [
        "# Install Spark"
      ],
      "metadata": {
        "id": "Oytbqn4ILKTj"
      }
    },
    {
      "cell_type": "code",
      "source": [
        "!pip install pyspark"
      ],
      "metadata": {
        "id": "FAEo-PgfK96F",
        "colab": {
          "base_uri": "https://localhost:8080/"
        },
        "outputId": "ca1fc896-4560-4eb8-e7b8-c094bfab596a"
      },
      "execution_count": null,
      "outputs": [
        {
          "output_type": "stream",
          "name": "stdout",
          "text": [
            "Requirement already satisfied: pyspark in /usr/local/lib/python3.10/dist-packages (3.5.1)\n",
            "Requirement already satisfied: py4j==0.10.9.7 in /usr/local/lib/python3.10/dist-packages (from pyspark) (0.10.9.7)\n"
          ]
        }
      ]
    },
    {
      "cell_type": "markdown",
      "source": [
        "# Start session"
      ],
      "metadata": {
        "id": "CRxEW8DkGXCF"
      }
    },
    {
      "cell_type": "markdown",
      "source": [
        "We start the builder pattern `SparkSession.builder` and then chain a configuration parameter that defined the application name."
      ],
      "metadata": {
        "id": "JuJ0P_fPhMro"
      }
    },
    {
      "cell_type": "markdown",
      "source": [
        "Providing a useful `appName` helps you identify which programs are running on your Spark cluster."
      ],
      "metadata": {
        "id": "J2w5YYf2hsUx"
      }
    },
    {
      "cell_type": "code",
      "source": [
        "from pyspark.sql import SparkSession\n",
        "spark = SparkSession.builder\\\n",
        "        .appName(\"Exploring_JSON_actors\")\\\n",
        "        .getOrCreate()"
      ],
      "metadata": {
        "id": "O3AIwdPaGWTy"
      },
      "execution_count": null,
      "outputs": []
    },
    {
      "cell_type": "markdown",
      "source": [
        "# Inspect the .html and .json files"
      ],
      "metadata": {
        "id": "Z_7XOjEjN2PC"
      }
    },
    {
      "cell_type": "markdown",
      "source": [
        "Imagine that someone just sent you the search results for these two queries. You can see that someone has been searching for 'top actors' in various cities (Kyiv, Ukraine and London, England.) The first geographic name referes to the 'top actors', and while the second set of geographic names looks duplicative, it is actually where you are telling Google to search from!"
      ],
      "metadata": {
        "id": "QHVji8REN8wY"
      }
    },
    {
      "cell_type": "markdown",
      "source": [
        "If you dig through the two JSON files, you can actually click through and see the HTML result! It is buried in the JSON file but you can find it after looking around. Just lop off the **%7C** at the end and you can see the raw webpage you grabbed.\n",
        "* https://serpapi.com/searches/2667d9f1ec89c315/63f12abf33b236a2bb4e555d.html%7C\n",
        "\n",
        "Here are the clean HTML files:\n",
        "* https://serpapi.com/searches/0fb523f94d3aeeac/63f12abda3f4ef6286fc8dfd.html\n",
        "* https://serpapi.com/searches/2667d9f1ec89c315/63f12abf33b236a2bb4e555d.html\n",
        "\n",
        "You can also replace the .html and just get the .json right away, too.\n",
        "* https://serpapi.com/searches/0fb523f94d3aeeac/63f12abda3f4ef6286fc8dfd.json\n",
        "* https://serpapi.com/searches/2667d9f1ec89c315/63f12abf33b236a2bb4e555d.json\n"
      ],
      "metadata": {
        "id": "C2__Wg8RTC8H"
      }
    },
    {
      "cell_type": "markdown",
      "source": [
        "Now that you have examined both the .html and .json files for these two search queries, **write down three interesting observations that you see**. Pay attention to how the structure of the .html website is efficiently captured in the .json file. No code here - just your qualitative observations."
      ],
      "metadata": {
        "id": "CC2s_vWxPGjR"
      }
    },
    {
      "cell_type": "markdown",
      "source": [
        "## Interesting Thing 1"
      ],
      "metadata": {
        "id": "Pa25rFgoX2Sc"
      }
    },
    {
      "cell_type": "markdown",
      "source": [
        "**Structured Data in JSON**: One interesting observation is the structured nature of the data in the JSON files compared to the HTML files. The JSON files contain well-organized data with clear keys and values, making it easier to extract and analyze specific information programmatically. This structured format facilitates data processing and analysis tasks."
      ],
      "metadata": {
        "id": "4iGSwnWjX_IJ"
      }
    },
    {
      "cell_type": "markdown",
      "source": [
        "## Interesting Thing 2"
      ],
      "metadata": {
        "id": "1ghY5pBMX4jv"
      }
    },
    {
      "cell_type": "markdown",
      "source": [
        "**Rich Snippets:** The JSON files include rich snippets containing additional information beyond the basic search results. These snippets often provide concise summaries or key details extracted from the corresponding web pages. This additional context can be valuable for users to quickly understand the relevance of the search results without needing to visit the web pages."
      ],
      "metadata": {
        "id": "V5pJO7GCX_om"
      }
    },
    {
      "cell_type": "markdown",
      "source": [
        "## Interesting Thing 3"
      ],
      "metadata": {
        "id": "GX9qWt71X5Xc"
      }
    },
    {
      "cell_type": "markdown",
      "source": [
        "**Consistency and Standardization**: The JSON files exhibit a high level of consistency and standardization across different search queries. Regardless of the specific search topic, the JSON structure remains consistent, which simplifies data extraction and manipulation tasks."
      ],
      "metadata": {
        "id": "72myPcqqYAD-"
      }
    },
    {
      "cell_type": "markdown",
      "source": [
        "# 🔴 Ukraine"
      ],
      "metadata": {
        "id": "dU1fwUdVShsm"
      }
    },
    {
      "cell_type": "markdown",
      "source": [
        "I think this is the easier file to work with, so let's start here."
      ],
      "metadata": {
        "id": "5ruMbevKbCAb"
      }
    },
    {
      "cell_type": "markdown",
      "source": [
        "# Read the Ukraine .json file and printSchema()"
      ],
      "metadata": {
        "id": "QAyvKog4PfFe"
      }
    },
    {
      "cell_type": "code",
      "source": [
        "#Read the json file\n",
        "df1 = spark.read.json(\"/content/Ukraine.json\")\n",
        "#getting the schema\n",
        "df1.printSchema()"
      ],
      "metadata": {
        "id": "6SprZKlcPvx-",
        "colab": {
          "base_uri": "https://localhost:8080/"
        },
        "outputId": "0f391e9f-2e8d-429b-b751-47735570663d"
      },
      "execution_count": null,
      "outputs": [
        {
          "output_type": "stream",
          "name": "stdout",
          "text": [
            "root\n",
            " |-- inline_images: array (nullable = true)\n",
            " |    |-- element: struct (containsNull = true)\n",
            " |    |    |-- link: string (nullable = true)\n",
            " |    |    |-- original: string (nullable = true)\n",
            " |    |    |-- source: string (nullable = true)\n",
            " |    |    |-- source_name: string (nullable = true)\n",
            " |    |    |-- thumbnail: string (nullable = true)\n",
            " |    |    |-- title: string (nullable = true)\n",
            " |-- organic_results: array (nullable = true)\n",
            " |    |-- element: struct (containsNull = true)\n",
            " |    |    |-- about_page_link: string (nullable = true)\n",
            " |    |    |-- about_page_serpapi_link: string (nullable = true)\n",
            " |    |    |-- about_this_result: struct (nullable = true)\n",
            " |    |    |    |-- source: struct (nullable = true)\n",
            " |    |    |    |    |-- description: string (nullable = true)\n",
            " |    |    |    |    |-- icon: string (nullable = true)\n",
            " |    |    |    |    |-- security: string (nullable = true)\n",
            " |    |    |    |    |-- source_info_link: string (nullable = true)\n",
            " |    |    |-- cached_page_link: string (nullable = true)\n",
            " |    |    |-- date: string (nullable = true)\n",
            " |    |    |-- displayed_link: string (nullable = true)\n",
            " |    |    |-- displayed_results: string (nullable = true)\n",
            " |    |    |-- link: string (nullable = true)\n",
            " |    |    |-- position: long (nullable = true)\n",
            " |    |    |-- related_results: array (nullable = true)\n",
            " |    |    |    |-- element: struct (containsNull = true)\n",
            " |    |    |    |    |-- about_page_link: string (nullable = true)\n",
            " |    |    |    |    |-- about_page_serpapi_link: string (nullable = true)\n",
            " |    |    |    |    |-- about_this_result: struct (nullable = true)\n",
            " |    |    |    |    |    |-- source: struct (nullable = true)\n",
            " |    |    |    |    |    |    |-- description: string (nullable = true)\n",
            " |    |    |    |    |    |    |-- icon: string (nullable = true)\n",
            " |    |    |    |    |    |    |-- security: string (nullable = true)\n",
            " |    |    |    |    |    |    |-- source_info_link: string (nullable = true)\n",
            " |    |    |    |    |-- cached_page_link: string (nullable = true)\n",
            " |    |    |    |    |-- displayed_link: string (nullable = true)\n",
            " |    |    |    |    |-- link: string (nullable = true)\n",
            " |    |    |    |    |-- position: long (nullable = true)\n",
            " |    |    |    |    |-- snippet: string (nullable = true)\n",
            " |    |    |    |    |-- snippet_highlighted_words: array (nullable = true)\n",
            " |    |    |    |    |    |-- element: string (containsNull = true)\n",
            " |    |    |    |    |-- title: string (nullable = true)\n",
            " |    |    |-- rich_snippet: struct (nullable = true)\n",
            " |    |    |    |-- top: struct (nullable = true)\n",
            " |    |    |    |    |-- detected_extensions: struct (nullable = true)\n",
            " |    |    |    |    |    |-- jun: long (nullable = true)\n",
            " |    |    |    |    |    |-- results_of: long (nullable = true)\n",
            " |    |    |    |    |-- extensions: array (nullable = true)\n",
            " |    |    |    |    |    |-- element: string (containsNull = true)\n",
            " |    |    |-- rich_snippet_list: array (nullable = true)\n",
            " |    |    |    |-- element: string (containsNull = true)\n",
            " |    |    |-- snippet: string (nullable = true)\n",
            " |    |    |-- snippet_highlighted_words: array (nullable = true)\n",
            " |    |    |    |-- element: string (containsNull = true)\n",
            " |    |    |-- thumbnail: string (nullable = true)\n",
            " |    |    |-- title: string (nullable = true)\n",
            " |-- pagination: struct (nullable = true)\n",
            " |    |-- current: long (nullable = true)\n",
            " |    |-- next: string (nullable = true)\n",
            " |    |-- other_pages: struct (nullable = true)\n",
            " |    |    |-- 2: string (nullable = true)\n",
            " |    |    |-- 3: string (nullable = true)\n",
            " |    |    |-- 4: string (nullable = true)\n",
            " |    |    |-- 5: string (nullable = true)\n",
            " |-- related_searches: array (nullable = true)\n",
            " |    |-- element: struct (containsNull = true)\n",
            " |    |    |-- link: string (nullable = true)\n",
            " |    |    |-- query: string (nullable = true)\n",
            " |-- search_information: struct (nullable = true)\n",
            " |    |-- menu_items: array (nullable = true)\n",
            " |    |    |-- element: struct (containsNull = true)\n",
            " |    |    |    |-- link: string (nullable = true)\n",
            " |    |    |    |-- position: long (nullable = true)\n",
            " |    |    |    |-- serpapi_link: string (nullable = true)\n",
            " |    |    |    |-- title: string (nullable = true)\n",
            " |    |-- organic_results_state: string (nullable = true)\n",
            " |    |-- query_displayed: string (nullable = true)\n",
            " |    |-- time_taken_displayed: double (nullable = true)\n",
            " |    |-- total_results: long (nullable = true)\n",
            " |-- search_metadata: struct (nullable = true)\n",
            " |    |-- created_at: string (nullable = true)\n",
            " |    |-- google_url: string (nullable = true)\n",
            " |    |-- id: string (nullable = true)\n",
            " |    |-- json_endpoint: string (nullable = true)\n",
            " |    |-- processed_at: string (nullable = true)\n",
            " |    |-- raw_html_file: string (nullable = true)\n",
            " |    |-- status: string (nullable = true)\n",
            " |    |-- total_time_taken: double (nullable = true)\n",
            " |-- search_parameters: struct (nullable = true)\n",
            " |    |-- device: string (nullable = true)\n",
            " |    |-- engine: string (nullable = true)\n",
            " |    |-- google_domain: string (nullable = true)\n",
            " |    |-- location_requested: string (nullable = true)\n",
            " |    |-- location_used: string (nullable = true)\n",
            " |    |-- num: string (nullable = true)\n",
            " |    |-- q: string (nullable = true)\n",
            " |    |-- start: long (nullable = true)\n",
            " |-- serpapi_pagination: struct (nullable = true)\n",
            " |    |-- current: long (nullable = true)\n",
            " |    |-- next: string (nullable = true)\n",
            " |    |-- next_link: string (nullable = true)\n",
            " |    |-- other_pages: struct (nullable = true)\n",
            " |    |    |-- 2: string (nullable = true)\n",
            " |    |    |-- 3: string (nullable = true)\n",
            " |    |    |-- 4: string (nullable = true)\n",
            " |    |    |-- 5: string (nullable = true)\n",
            "\n"
          ]
        }
      ]
    },
    {
      "cell_type": "markdown",
      "source": [
        "**Description**\n",
        "\n",
        "*   This schema represents structured data from a web search engine. It contains various fields such as 'organic_results', 'pagination', 'related_searches', 'search_information', 'search_metadata', 'search_parameters', and 'serpapi_pagination', each with nested structures containing information about search results, pagination, related searches, search metadata, and search parameters.\n",
        "*   Each field has specific attributes like links, titles, positions, and other relevant details, providing comprehensive information about the search results and associated metadata.\n",
        "\n"
      ],
      "metadata": {
        "id": "CxTrcawWx5-m"
      }
    },
    {
      "cell_type": "markdown",
      "source": [
        "# Extract the `organic_results.snippet` from the Ukraine .json\n",
        "Are there any actors listed here? What does the output look like?"
      ],
      "metadata": {
        "id": "fN0sKqnqQAbH"
      }
    },
    {
      "cell_type": "code",
      "source": [
        "from pyspark.sql.functions import explode\n",
        "\n",
        "print(\"Below are the snippets : \\n\")\n",
        "#extracting and exploding the results displaying each name on a separate row\n",
        "df1_a = df1.select(\n",
        "    explode(\"organic_results.snippet\").alias(\"Organic_results_snippet\")\n",
        ")\n",
        "# Show the results\n",
        "df1_a.show(truncate=False)"
      ],
      "metadata": {
        "id": "J3Lkdux5QKRs",
        "colab": {
          "base_uri": "https://localhost:8080/"
        },
        "outputId": "8e40bd03-1b1a-4320-cdee-55e2dff1fe0d"
      },
      "execution_count": null,
      "outputs": [
        {
          "output_type": "stream",
          "name": "stdout",
          "text": [
            "Below are the snippets : \n",
            "\n",
            "+---------------------------------------------------------------------------------------------------------------------------------------------------------+\n",
            "|Organic_results_snippet                                                                                                                                  |\n",
            "+---------------------------------------------------------------------------------------------------------------------------------------------------------+\n",
            "|Alec Utgoff is a British actor best known for playing 'Alexei' in the Netflix hit show, ... Ivanna Sakhno was born on November 14, 1997 in Kiev, Ukraine.|\n",
            "|From Ben Stiller to Jessica Chastain, celebrities have embraced Ukraine's president and offered support to the country's war effort.                     |\n",
            "|Zelenskyy wrote on his social media page that Sean Penn is in Ukraine filming a movie about the war. He also said that Penn was in Ukraine ...           |\n",
            "|Ukrainian actor Roman Matsiyta was ready to fight once the war began. He has no hesitation when it comes to defending his homeland.                      |\n",
            "|Ukrainian President Volodymyr Zelensky met with Ben Stiller on Monday after the actor toured parts of the war-ravaged county, advocating for ...         |\n",
            "|The Hindi film's lead actor Liza is stuck in the city of Dnipro, southeast of the Ukrainian capital Kyiv, he said.                                       |\n",
            "|Top Kyiv Theaters: See reviews and photos of Theaters in Kyiv, Ukraine on Tripadvisor.                                                                   |\n",
            "|On Saturday, Russian troops advanced on the capital city of Kyiv as Ukrainian forces struggled to hold on to the city.                                   |\n",
            "+---------------------------------------------------------------------------------------------------------------------------------------------------------+\n",
            "\n"
          ]
        }
      ]
    },
    {
      "cell_type": "markdown",
      "source": [
        "**Description**\n",
        "\n",
        "*   Yes, there are several actors listed in the output(Alec Utgoff, Roman Matsiyta ...etc.,).\n",
        "*    The output displays snippets of text extracted from search results related to various actors. Each snippet provides information about the actors, such as their names, roles, activities, and interactions.\n",
        "\n",
        "\n"
      ],
      "metadata": {
        "id": "w-yPfXvkzH8y"
      }
    },
    {
      "cell_type": "markdown",
      "source": [
        "# Extract the `organic_results.snippet_highlighted_words` from the Ukraine .json\n",
        "Are there any actors listed here? What does the output look like?"
      ],
      "metadata": {
        "id": "lPODRsJ8QRHM"
      }
    },
    {
      "cell_type": "code",
      "source": [
        "print(\"Below are the snippet_highlighted_words : \\n\")\n",
        "#Extracting the exploding snippet highlighted words which are in organic results\n",
        "df1_b = df1.select(\n",
        "    explode(\"organic_results.snippet_highlighted_words\").alias(\"snippet_highlighted_words\")\n",
        ")\n",
        "df1_b.show(truncate = False)"
      ],
      "metadata": {
        "id": "OhELR6fyQwvB",
        "colab": {
          "base_uri": "https://localhost:8080/"
        },
        "outputId": "0e7d6ca4-53a2-4c49-e36b-250e89a204c7"
      },
      "execution_count": null,
      "outputs": [
        {
          "output_type": "stream",
          "name": "stdout",
          "text": [
            "Below are the snippet_highlighted_words : \n",
            "\n",
            "+------------------------------+\n",
            "|snippet_highlighted_words     |\n",
            "+------------------------------+\n",
            "|[actor best, Kiev, Ukraine]   |\n",
            "|[Ukraine's]                   |\n",
            "|NULL                          |\n",
            "|[Ukrainian actor]             |\n",
            "|[Ukrainian, actor]            |\n",
            "|[actor, city, Ukrainian, Kyiv]|\n",
            "|[Top Kyiv, Kyiv, Ukraine]     |\n",
            "|[city, Kyiv, Ukrainian, city] |\n",
            "+------------------------------+\n",
            "\n"
          ]
        }
      ]
    },
    {
      "cell_type": "markdown",
      "source": [
        "\n",
        "**Description**\n",
        "\n",
        "*   The names of the actors are not listed but there are references to actors\n",
        "listed in the output.  \n",
        "*   The output shows highlighted words or phrases extracted from the snippets of text related to the search results.\n",
        "*   These highlighted words include terms like \"actor,\" \"Ukrainian actor,\" and specific locations such as \"Kiev\" and \"Kyiv,\" which are relevant to actors and their activities mentioned in the search results.\n",
        "\n",
        "\n",
        "\n",
        "\n",
        "\n",
        "\n",
        "\n",
        "\n"
      ],
      "metadata": {
        "id": "IEucgfjb0IgN"
      }
    },
    {
      "cell_type": "markdown",
      "source": [
        "# Extract the `search_parameters.q` to get the name of the search query\n",
        "Does the search you extracted match the search on the HTML page?\n",
        "\n"
      ],
      "metadata": {
        "id": "UgI1N3O2QxPa"
      }
    },
    {
      "cell_type": "code",
      "source": [
        "# importing col function\n",
        "from pyspark.sql.functions import col\n",
        "print(\"Below is the search query : \\n\")\n",
        "\n",
        "#extracting the column and renaming it\n",
        "df1_c = df1.select(col(\"search_parameters.q\").alias(\"Query\"))\n",
        "df1_c.show(truncate=False)"
      ],
      "metadata": {
        "colab": {
          "base_uri": "https://localhost:8080/"
        },
        "id": "1Ck9zHckr_hQ",
        "outputId": "0556eebf-d64c-468f-a7c3-49d0ef2e2c82"
      },
      "execution_count": null,
      "outputs": [
        {
          "output_type": "stream",
          "name": "stdout",
          "text": [
            "Below is the search query : \n",
            "\n",
            "+------------------------------------+\n",
            "|Query                               |\n",
            "+------------------------------------+\n",
            "|top actors in Kyiv,Kyiv city,Ukraine|\n",
            "+------------------------------------+\n",
            "\n"
          ]
        }
      ]
    },
    {
      "cell_type": "markdown",
      "source": [
        "**Description**\n",
        "\n",
        "*   Yes, the search I extracted matched the search on th HTML page.\n",
        "\n"
      ],
      "metadata": {
        "id": "RD2oOwcp0no4"
      }
    },
    {
      "cell_type": "markdown",
      "source": [
        "# Extract the list of 12 names listed as the first SERP result from the Ukraine .json\n",
        "Where was this information hiding in the .json?"
      ],
      "metadata": {
        "id": "brYPiGSEQ685"
      }
    },
    {
      "cell_type": "code",
      "source": [
        "print(\"Below is the list of 12 names listed as the first SERP result from Ukraine : \\n\")\n",
        "\n",
        "\n",
        "df_exploded_names = df1.select(\n",
        "    explode(\"organic_results\").alias(\"organic_result\")    #selecting and exploding array column\n",
        ").select(\n",
        "    explode(\"organic_result.rich_snippet_list\").alias(\"List_of_Names\")   #selecting a column and exploding displaying each name on a separate row\n",
        ")\n",
        "df_exploded_names.show(truncate=False)"
      ],
      "metadata": {
        "colab": {
          "base_uri": "https://localhost:8080/"
        },
        "id": "xk1iGd2OAdYr",
        "outputId": "f075e572-a4a6-43d3-e143-0f62c22748b8"
      },
      "execution_count": null,
      "outputs": [
        {
          "output_type": "stream",
          "name": "stdout",
          "text": [
            "Below is the list of 12 names listed as the first SERP result from Ukraine : \n",
            "\n",
            "+----------------+\n",
            "|List_of_Names   |\n",
            "+----------------+\n",
            "|Ivanna Sakhno   |\n",
            "|Natalie Burn    |\n",
            "|Gene Stupnitsky |\n",
            "|Ilia Volok      |\n",
            "|Oleg Zagorodnii |\n",
            "|Aleksey Gorbunov|\n",
            "|Ana Layevska    |\n",
            "|Larisa Polonsky |\n",
            "|Anna Sten       |\n",
            "|Vadim Perelman  |\n",
            "|Anna Sedokova   |\n",
            "|Alex Feldman    |\n",
            "+----------------+\n",
            "\n"
          ]
        }
      ]
    },
    {
      "cell_type": "markdown",
      "source": [
        "**Description**\n",
        "\n",
        "*   The information about the list of names as the first SERP result was hiding within the \"organic_results\" field of the JSON structure.\n",
        "*   Specifically, it was nested within the \"rich_snippet_list\" attribute within each \"organic_result\" element.\n",
        "\n"
      ],
      "metadata": {
        "id": "Uq-0xEGR4YTn"
      }
    },
    {
      "cell_type": "markdown",
      "source": [
        "# Extract a list of the 9 websites listed on the Ukraine .json\n",
        "Sometimes Google (SERP API) does not return 10 related searches, it will give you less! To be clear, I would like all of the links from the 9 positions within the organic results. Names should include imdb.com, theguardian.com, euronews.com etc."
      ],
      "metadata": {
        "id": "tq_WKPVFSBcg"
      }
    },
    {
      "cell_type": "code",
      "source": [
        "# importing required functions\n",
        "from pyspark.sql.functions import explode,col\n",
        "\n",
        "print(\"Below are the 9 websites that are listed : \\n\")\n",
        "\n",
        "df_exploded = df1.select(explode(\"organic_results\").alias(\"organic_results\"))\n",
        "\n",
        "# Select the displayed_link from each organic result\n",
        "links_df = df_exploded.select(\"organic_results.displayed_link\")\n",
        "\n",
        "# Collecting these links as a list\n",
        "links_list = links_df.collect()\n",
        "\n",
        "# Additionally, extracting the embedded link from the first organic_result's related_results\n",
        "ukraine_first_related_link = df_exploded.select(\n",
        "    explode(\"organic_results.related_results.displayed_link\").alias(\"related_displayed_link\")\n",
        ").first()\n",
        "\n",
        "#adding the link to the websites_list\n",
        "links_list.append(ukraine_first_related_link)\n",
        "\n",
        "# Printing all the 9 links\n",
        "for link in links_list:\n",
        "    print(link.displayed_link if 'displayed_link' in link else link['related_displayed_link'])"
      ],
      "metadata": {
        "colab": {
          "base_uri": "https://localhost:8080/"
        },
        "id": "RIBUM_eAnNS7",
        "outputId": "e8716041-f4a2-401f-f1fe-c9067b80bdb8"
      },
      "execution_count": null,
      "outputs": [
        {
          "output_type": "stream",
          "name": "stdout",
          "text": [
            "Below are the 9 websites that are listed : \n",
            "\n",
            "https://www.imdb.com › search › name › birth_place=...\n",
            "https://www.theguardian.com › world › jan › ukraine-h...\n",
            "https://www.euronews.com › video › 2022/06/28 › us-act...\n",
            "https://nypost.com › 2022/03/06 › ukrainian-actor-who...\n",
            "https://www.newsweek.com › ... › United Nations\n",
            "https://www.tribuneindia.com › Nation\n",
            "https://www.tripadvisor.com › ... › Theaters in Kyiv\n",
            "https://www.latimes.com › business › story › actor-sean-p...\n",
            "https://www.imdb.com › search › name › birth_place=...\n"
          ]
        }
      ]
    },
    {
      "cell_type": "markdown",
      "source": [
        "# 🔴 London"
      ],
      "metadata": {
        "id": "eg_QEX8QSq5S"
      }
    },
    {
      "cell_type": "markdown",
      "source": [
        "# Extract the list of famous actors from the first result on the London .json\n",
        "\n",
        "```\n",
        "Richard Foreman. Christian Bale. ...\n",
        "Nick Briggs. Sean Bean. ...\n",
        "Kate Beckinsale. ...\n",
        "Dirk Bogarde. ...\n",
        "Michael Caine. ...\n",
        "John Cleese. ...\n",
        "Sacha Baron Cohen. ..\n",
        "```"
      ],
      "metadata": {
        "id": "_Pdj95QFS3Ae"
      }
    },
    {
      "cell_type": "markdown",
      "source": [
        "This one is a bit tough to extract because it is 'hiding' in an answer box (notice how this first search result is prominent and specially formatted by Google.) It is NOT the first result (from Position 1) of the organic results.\n",
        "\n",
        "While it is easy for you to just retrieve the answer (once you find it in the JSON), why not practice your PySpark and also clean up the information - I see 9 names in the answer box, please make me a table with one column called actors and 9 rows, one for each actor. **Hint:** You can use the `.` as a delimiter and replace all `...` with nothing..."
      ],
      "metadata": {
        "id": "3B8kko_STMlt"
      }
    },
    {
      "cell_type": "code",
      "source": [
        "#reading the json file\n",
        "london = spark.read.json(\"/content/London.json\")\n",
        "#printing the schema\n",
        "london.printSchema()"
      ],
      "metadata": {
        "id": "PyGHBPfIUIZ9",
        "colab": {
          "base_uri": "https://localhost:8080/"
        },
        "outputId": "fccebaf8-f2b5-49f7-9cfb-520a16d88c01"
      },
      "execution_count": null,
      "outputs": [
        {
          "output_type": "stream",
          "name": "stdout",
          "text": [
            "root\n",
            " |-- answer_box: struct (nullable = true)\n",
            " |    |-- about_this_result: struct (nullable = true)\n",
            " |    |    |-- source: struct (nullable = true)\n",
            " |    |    |    |-- description: string (nullable = true)\n",
            " |    |    |    |-- icon: string (nullable = true)\n",
            " |    |    |    |-- security: string (nullable = true)\n",
            " |    |    |    |-- source_info_link: string (nullable = true)\n",
            " |    |-- date: string (nullable = true)\n",
            " |    |-- displayed_link: string (nullable = true)\n",
            " |    |-- images: array (nullable = true)\n",
            " |    |    |-- element: string (containsNull = true)\n",
            " |    |-- link: string (nullable = true)\n",
            " |    |-- list: array (nullable = true)\n",
            " |    |    |-- element: string (containsNull = true)\n",
            " |    |-- snippet: string (nullable = true)\n",
            " |    |-- snippet_highlighted_words: array (nullable = true)\n",
            " |    |    |-- element: string (containsNull = true)\n",
            " |    |-- title: string (nullable = true)\n",
            " |    |-- type: string (nullable = true)\n",
            " |-- organic_results: array (nullable = true)\n",
            " |    |-- element: struct (containsNull = true)\n",
            " |    |    |-- about_this_result: struct (nullable = true)\n",
            " |    |    |    |-- source: struct (nullable = true)\n",
            " |    |    |    |    |-- description: string (nullable = true)\n",
            " |    |    |    |    |-- icon: string (nullable = true)\n",
            " |    |    |    |    |-- security: string (nullable = true)\n",
            " |    |    |    |    |-- source_info_link: string (nullable = true)\n",
            " |    |    |-- cached_page_link: string (nullable = true)\n",
            " |    |    |-- date: string (nullable = true)\n",
            " |    |    |-- displayed_link: string (nullable = true)\n",
            " |    |    |-- link: string (nullable = true)\n",
            " |    |    |-- missing: array (nullable = true)\n",
            " |    |    |    |-- element: string (containsNull = true)\n",
            " |    |    |-- must_include: struct (nullable = true)\n",
            " |    |    |    |-- link: string (nullable = true)\n",
            " |    |    |    |-- word: string (nullable = true)\n",
            " |    |    |-- position: long (nullable = true)\n",
            " |    |    |-- related_results: array (nullable = true)\n",
            " |    |    |    |-- element: struct (containsNull = true)\n",
            " |    |    |    |    |-- about_this_result: struct (nullable = true)\n",
            " |    |    |    |    |    |-- source: struct (nullable = true)\n",
            " |    |    |    |    |    |    |-- description: string (nullable = true)\n",
            " |    |    |    |    |    |    |-- icon: string (nullable = true)\n",
            " |    |    |    |    |    |    |-- security: string (nullable = true)\n",
            " |    |    |    |    |    |    |-- source_info_link: string (nullable = true)\n",
            " |    |    |    |    |-- cached_page_link: string (nullable = true)\n",
            " |    |    |    |    |-- displayed_link: string (nullable = true)\n",
            " |    |    |    |    |-- link: string (nullable = true)\n",
            " |    |    |    |    |-- position: long (nullable = true)\n",
            " |    |    |    |    |-- snippet: string (nullable = true)\n",
            " |    |    |    |    |-- snippet_highlighted_words: array (nullable = true)\n",
            " |    |    |    |    |    |-- element: string (containsNull = true)\n",
            " |    |    |    |    |-- title: string (nullable = true)\n",
            " |    |    |-- rich_snippet: struct (nullable = true)\n",
            " |    |    |    |-- top: struct (nullable = true)\n",
            " |    |    |    |    |-- detected_extensions: struct (nullable = true)\n",
            " |    |    |    |    |    |-- jan: long (nullable = true)\n",
            " |    |    |    |    |    |-- jul: long (nullable = true)\n",
            " |    |    |    |    |-- extensions: array (nullable = true)\n",
            " |    |    |    |    |    |-- element: string (containsNull = true)\n",
            " |    |    |-- snippet: string (nullable = true)\n",
            " |    |    |-- snippet_highlighted_words: array (nullable = true)\n",
            " |    |    |    |-- element: string (containsNull = true)\n",
            " |    |    |-- thumbnail: string (nullable = true)\n",
            " |    |    |-- title: string (nullable = true)\n",
            " |-- pagination: struct (nullable = true)\n",
            " |    |-- current: long (nullable = true)\n",
            " |    |-- next: string (nullable = true)\n",
            " |    |-- other_pages: struct (nullable = true)\n",
            " |    |    |-- 10: string (nullable = true)\n",
            " |    |    |-- 2: string (nullable = true)\n",
            " |    |    |-- 3: string (nullable = true)\n",
            " |    |    |-- 4: string (nullable = true)\n",
            " |    |    |-- 5: string (nullable = true)\n",
            " |    |    |-- 6: string (nullable = true)\n",
            " |    |    |-- 7: string (nullable = true)\n",
            " |    |    |-- 8: string (nullable = true)\n",
            " |    |    |-- 9: string (nullable = true)\n",
            " |-- related_questions: array (nullable = true)\n",
            " |    |-- element: struct (containsNull = true)\n",
            " |    |    |-- date: string (nullable = true)\n",
            " |    |    |-- displayed_link: string (nullable = true)\n",
            " |    |    |-- link: string (nullable = true)\n",
            " |    |    |-- list: array (nullable = true)\n",
            " |    |    |    |-- element: string (containsNull = true)\n",
            " |    |    |-- next_page_token: string (nullable = true)\n",
            " |    |    |-- question: string (nullable = true)\n",
            " |    |    |-- serpapi_link: string (nullable = true)\n",
            " |    |    |-- snippet: string (nullable = true)\n",
            " |    |    |-- thumbnail: string (nullable = true)\n",
            " |    |    |-- title: string (nullable = true)\n",
            " |-- related_searches: array (nullable = true)\n",
            " |    |-- element: struct (containsNull = true)\n",
            " |    |    |-- link: string (nullable = true)\n",
            " |    |    |-- query: string (nullable = true)\n",
            " |-- search_information: struct (nullable = true)\n",
            " |    |-- menu_items: array (nullable = true)\n",
            " |    |    |-- element: struct (containsNull = true)\n",
            " |    |    |    |-- link: string (nullable = true)\n",
            " |    |    |    |-- position: long (nullable = true)\n",
            " |    |    |    |-- serpapi_link: string (nullable = true)\n",
            " |    |    |    |-- title: string (nullable = true)\n",
            " |    |-- organic_results_state: string (nullable = true)\n",
            " |    |-- query_displayed: string (nullable = true)\n",
            " |    |-- time_taken_displayed: double (nullable = true)\n",
            " |    |-- total_results: long (nullable = true)\n",
            " |-- search_metadata: struct (nullable = true)\n",
            " |    |-- created_at: string (nullable = true)\n",
            " |    |-- google_url: string (nullable = true)\n",
            " |    |-- id: string (nullable = true)\n",
            " |    |-- json_endpoint: string (nullable = true)\n",
            " |    |-- processed_at: string (nullable = true)\n",
            " |    |-- raw_html_file: string (nullable = true)\n",
            " |    |-- status: string (nullable = true)\n",
            " |    |-- total_time_taken: double (nullable = true)\n",
            " |-- search_parameters: struct (nullable = true)\n",
            " |    |-- device: string (nullable = true)\n",
            " |    |-- engine: string (nullable = true)\n",
            " |    |-- google_domain: string (nullable = true)\n",
            " |    |-- location_requested: string (nullable = true)\n",
            " |    |-- location_used: string (nullable = true)\n",
            " |    |-- num: string (nullable = true)\n",
            " |    |-- q: string (nullable = true)\n",
            " |    |-- start: long (nullable = true)\n",
            " |-- serpapi_pagination: struct (nullable = true)\n",
            " |    |-- current: long (nullable = true)\n",
            " |    |-- next: string (nullable = true)\n",
            " |    |-- next_link: string (nullable = true)\n",
            " |    |-- other_pages: struct (nullable = true)\n",
            " |    |    |-- 10: string (nullable = true)\n",
            " |    |    |-- 2: string (nullable = true)\n",
            " |    |    |-- 3: string (nullable = true)\n",
            " |    |    |-- 4: string (nullable = true)\n",
            " |    |    |-- 5: string (nullable = true)\n",
            " |    |    |-- 6: string (nullable = true)\n",
            " |    |    |-- 7: string (nullable = true)\n",
            " |    |    |-- 8: string (nullable = true)\n",
            " |    |    |-- 9: string (nullable = true)\n",
            "\n"
          ]
        }
      ]
    },
    {
      "cell_type": "code",
      "source": [
        "from pyspark.sql.functions import regexp_replace,split\n",
        "print(\"Below is the list of famous actors in London from the first result:\")\n",
        "\n",
        "london_1 = london.select(\n",
        "     explode(\"answer_box.list\").alias(\"actor\")\n",
        ")\n",
        "\n",
        "#replaced ... with nothing,replaced space with nothing and exploded splitting by . and then filtered\n",
        "#Explode the array of names to display each name on a separate row\n",
        "london_1 = london_1.withColumn(\"actor\", regexp_replace(\"actor\", \"\\.\\.\\.\", \"\")) \\\n",
        "                   .withColumn(\"actor\", regexp_replace(\"actor\", \" \", \"\")) \\\n",
        "                   .withColumn(\"actor\", explode(split(\"actor\", \"\\\\.\"))) \\\n",
        "                   .filter(col(\"actor\")!= \"\")\n",
        "\n",
        "london_1.show(truncate=False)"
      ],
      "metadata": {
        "colab": {
          "base_uri": "https://localhost:8080/"
        },
        "id": "OnQGMmsbL2I_",
        "outputId": "72bb0b4d-dad5-4292-aa77-b72a9462bf05"
      },
      "execution_count": null,
      "outputs": [
        {
          "output_type": "stream",
          "name": "stdout",
          "text": [
            "Below is the list of famous actors in London from the first result:\n",
            "+---------------------------------+\n",
            "|actor                            |\n",
            "+---------------------------------+\n",
            "|RichardForeman                   |\n",
            "|ChristianBale                    |\n",
            "|NickBriggs                       |\n",
            "|SeanBean                         |\n",
            "|KateBeckinsale                   |\n",
            "|DirkBogarde                      |\n",
            "|MichaelCaine                     |\n",
            "|JohnCleese                       |\n",
            "|SachaBaronCohen                  |\n",
            "|Photograph:YANNISDRAKOULIDIS/2021|\n",
            "+---------------------------------+\n",
            "\n"
          ]
        }
      ]
    },
    {
      "cell_type": "markdown",
      "source": [
        "# Examine 'Orang juga bertanya'/'People Also Ask' in the London .json\n",
        "For some reason, this London search result came from the Indonesian Google search engine. 'Orang juga bertanya' is Indonesian for 'People Also Ask'.\n",
        "\n",
        "Click through the HTML and find out 'Who is No 1 actor in the world?', then use code to extract the answer from the .json. Print the text of the answer to get full credit."
      ],
      "metadata": {
        "id": "dm7i5SXvUIrT"
      }
    },
    {
      "cell_type": "code",
      "source": [
        "questions_exploded = london.select(\n",
        "    explode(\"related_questions\").alias(\"related_question\")\n",
        ")\n",
        "\n",
        "# Filter for the specific question about the No 1 actor in the world\n",
        "specific_question = questions_exploded.filter(\n",
        "    col(\"related_question.question\") == \"Who is No 1 actor in the world?\"\n",
        ")\n",
        "\n",
        "# Select the snippet from the filtered result\n",
        "snippet = specific_question.select(\n",
        "    \"related_question.snippet\"\n",
        ")\n",
        "\n",
        "# Show the snippet\n",
        "snippet.show(truncate=False)"
      ],
      "metadata": {
        "colab": {
          "base_uri": "https://localhost:8080/"
        },
        "id": "0I9m_qVoZOJK",
        "outputId": "26957ab1-32de-458e-b2da-40a1202af237"
      },
      "execution_count": null,
      "outputs": [
        {
          "output_type": "stream",
          "name": "stdout",
          "text": [
            "+-----------------------------------------------------------------------------------------------------------------------------------------------------------------------------------------------------------------------------------------------------------------------------------------------------------------+\n",
            "|snippet                                                                                                                                                                                                                                                                                                          |\n",
            "+-----------------------------------------------------------------------------------------------------------------------------------------------------------------------------------------------------------------------------------------------------------------------------------------------------------------+\n",
            "|American veteran actor Dwayne Johnson is the most popular actor in the world in 2023. He was born on 2nd May 1972 in Hayward, California. He was one of the greatest WWE wrestlers of all time also known by the ring name “The Rock”. This multi-talented American actor has huge popularity all over the world.|\n",
            "+-----------------------------------------------------------------------------------------------------------------------------------------------------------------------------------------------------------------------------------------------------------------------------------------------------------------+\n",
            "\n"
          ]
        }
      ]
    },
    {
      "cell_type": "markdown",
      "source": [
        "**Description**\n",
        "\n",
        "*   Dwayne Johnson is the No 1 actor in the world.\n",
        "\n"
      ],
      "metadata": {
        "id": "1szFHsSM23zO"
      }
    },
    {
      "cell_type": "markdown",
      "source": [
        "# Extract a list of the 10 websites listed on the London .json\n",
        "Similar to what you did for Ukraine. These come from the organic results. Should include names like timeout.com, imdb.com, etc."
      ],
      "metadata": {
        "id": "OWxscwiBU2bW"
      }
    },
    {
      "cell_type": "code",
      "source": [
        "print(\"Below are the 10 websites that are listed : \\n\")\n",
        "\n",
        "# Explode the organic_results to work with each result separately\n",
        "london_exploded = london.select(explode(\"organic_results\").alias(\"organic_result\"))\n",
        "\n",
        "# Select the displayed_link from each organic result\n",
        "websites_df = london_exploded.select(\"organic_result.displayed_link\")\n",
        "\n",
        "# Collect these links as a list\n",
        "websites_list = [row['displayed_link'] for row in websites_df.collect()]\n",
        "\n",
        "# Extract the embedded link from the first organic_result's related_results\n",
        "related_links = london_exploded.select(\n",
        "    explode(\"organic_result.related_results.displayed_link\").alias(\"related_displayed_link\")\n",
        ").collect()\n",
        "\n",
        "# Append the first related link\n",
        "websites_list.append(related_links[0]['related_displayed_link'])\n",
        "\n",
        "# Extract the displayed_link from the answer_box\n",
        "answer_box_link = london.select(\"answer_box.displayed_link\").first()\n",
        "\n",
        "# Append the answer box link\n",
        "websites_list.append(answer_box_link['displayed_link'])\n",
        "\n",
        "# Print the links or process them as needed\n",
        "for website in websites_list:\n",
        "    print(website)"
      ],
      "metadata": {
        "colab": {
          "base_uri": "https://localhost:8080/"
        },
        "id": "lJyeI0eal2re",
        "outputId": "f4109d32-0c50-42c5-d0ba-3acf92baf0f7"
      },
      "execution_count": null,
      "outputs": [
        {
          "output_type": "stream",
          "name": "stdout",
          "text": [
            "Below are the 10 websites that are listed : \n",
            "\n",
            "https://www.imdb.com › name\n",
            "https://www.mrdustbin.com › ...\n",
            "https://www.glamourmagazine.co.uk › ... › Celebrity News\n",
            "https://www.entoin.com › briti...\n",
            "https://londranews.com › lond...\n",
            "https://www.youtube.com › watch\n",
            "https://www.youtube.com › w...\n",
            "https://www.thegentlemansjournal.com › ...\n",
            "https://www.imdb.com › list\n",
            "https://www.timeout.com › film › 50-great-british-actors-t...\n"
          ]
        }
      ]
    },
    {
      "cell_type": "markdown",
      "source": [
        "# 🔴 Comments\n"
      ],
      "metadata": {
        "id": "H0Thg7IGZP3v"
      }
    },
    {
      "cell_type": "markdown",
      "source": [
        "I learnt the following points by doing this assignment.\n",
        "\n",
        "\n",
        "*   I learnt the complexity of handling semi-similar JSON structures, showcasing the need for versatile data extraction techniques to manage variability and nested data efficiently.\n",
        "*   Using dynamic data manipulation functions like explode and select in PySpark to extract and transform data from complex JSON files\n",
        "*   I also learnt how to make a list of links if a link is embedded (as in question 7 & 10) and how to append.\n",
        "\n",
        "Furthermore, I got a good handson experience on how to deal with complex JSON files using PySpark, particularly in schema exploration and data previewing.\n",
        "\n"
      ],
      "metadata": {
        "id": "Na36_xa4bNgC"
      }
    },
    {
      "cell_type": "markdown",
      "source": [
        "\n",
        "This one is tough because Ukraine only has 9 links and London has 10 links!\n",
        "\n",
        "Read both .json files at once using a wildcard, and make a dataframe with two rows (one for Ukraine and one for London) and 21 columns. The first column has the search query, and the next 10 columns are the (up to) 10 websites and the 10 columns after that are the 10 snippets. Good luck!"
      ],
      "metadata": {
        "id": "JQyjDHbCYi34"
      }
    },
    {
      "cell_type": "code",
      "source": [
        "from pyspark.sql.functions import expr,row_number\n",
        "from pyspark.sql.window import Window\n",
        "\n",
        "# Read both JSON files using a wildcard\n",
        "df = spark.read.json(\"/content/*.json\")\n",
        "\n",
        "# Extract necessary information for Ukraine\n",
        "ukraine_df = df.filter(df.search_metadata.google_url.contains(\"Ukraine\")).limit(1)\n",
        "ukraine_df_links = ukraine_df.selectExpr(\"search_parameters.q as search_query\", \"explode(organic_results.link) as website\").limit(10)  #extracting websites\n",
        "ukraine_df_snippets = ukraine_df.selectExpr(\"search_parameters.q as search_query\", \"explode(organic_results.snippet) as snippet\").limit(10)  #extracting snippets\n",
        "\n",
        "# Extract necessary information for London\n",
        "london_df = df.filter(df.search_metadata.google_url.contains(\"London\")).limit(1)\n",
        "london_df_links = london_df.selectExpr(\"search_parameters.q as search_query\", \"explode(organic_results.link) as website\").limit(10)       #extracting websites\n",
        "london_df_snippets = london_df.selectExpr(\"search_parameters.q as search_query\", \"explode(organic_results.snippet) as snippet\").limit(10)  #extracting snippets\n",
        "\n",
        "# Combine the link and snippet DataFrames\n",
        "ukraine_combined = ukraine_df_links.join(ukraine_df_snippets, \"search_query\").withColumn(\"row_num\", row_number().over(Window.partitionBy(\"search_query\").orderBy(\"website\"))).limit(10)\n",
        "london_combined = london_df_links.join(london_df_snippets, \"search_query\").withColumn(\"row_num\", row_number().over(Window.partitionBy(\"search_query\").orderBy(\"website\"))).limit(10)\n",
        "\n",
        "# Pivot the combined DataFrames to get websites and snippets as columns\n",
        "ukraine_pivoted = ukraine_combined.groupBy(\"search_query\").pivot(\"row_num\").agg(expr(\"first(website) as website\"), expr(\"first(snippet) as snippet\"))\n",
        "london_pivoted = london_combined.groupBy(\"search_query\").pivot(\"row_num\").agg(expr(\"first(website) as website\"), expr(\"first(snippet) as snippet\"))\n",
        "\n",
        "# Merge the DataFrames into a single DataFrame with two rows\n",
        "merged_df_1 = ukraine_pivoted.union(london_pivoted)\n",
        "\n",
        "# Show the resulting DataFrame\n",
        "merged_df_1.show(truncate=False)"
      ],
      "metadata": {
        "colab": {
          "base_uri": "https://localhost:8080/"
        },
        "id": "o8VW0HJhMEIC",
        "outputId": "e2d8cfee-b11c-427c-ed76-36b01be96bb0"
      },
      "execution_count": null,
      "outputs": [
        {
          "output_type": "stream",
          "name": "stdout",
          "text": [
            "+---------------------------------------------------+-------------------------------------------------------------------------------------------+------------------------------------------------------------------------------------------------------------------------------------------------------------------+-------------------------------------------------------------------------------------------+-----------------------------------------------------------------------------------------------------------------------------------------------+-------------------------------------------------------------------------------------------+-----------------------------------------------------------------------------------------------------------------------------------+-------------------------------------------------------------------------------------------+------------------------------------------------------------------------------------------------------------------------------------------------+-------------------------------------------------------------------------------------------+-----------------------------------------------------------------------------------------------------------------------------------+-------------------------------------------------------------------------------------------+----------------------------------------------------------------------------------------------------------------------------------------------+-------------------------------------------------------------------------------------------+------------------------------------------------------------------------------------------------------------------------------------+-------------------------------------------------------------------------------------------+-----------------------------------------------------------------------------------------------------------------------------------------------------------------+-------------------------------------------------------------------------------+------------------------------------------------------------------------------------------------------------------------------------------------------------------+-------------------------------------------------------------------------------+-----------------------------------------------------------------------------------------------------------------------------------------------+\n",
            "|search_query                                       |1_website                                                                                  |1_snippet                                                                                                                                                         |2_website                                                                                  |2_snippet                                                                                                                                      |3_website                                                                                  |3_snippet                                                                                                                          |4_website                                                                                  |4_snippet                                                                                                                                       |5_website                                                                                  |5_snippet                                                                                                                          |6_website                                                                                  |6_snippet                                                                                                                                     |7_website                                                                                  |7_snippet                                                                                                                           |8_website                                                                                  |8_snippet                                                                                                                                                        |9_website                                                                      |9_snippet                                                                                                                                                         |10_website                                                                     |10_snippet                                                                                                                                     |\n",
            "+---------------------------------------------------+-------------------------------------------------------------------------------------------+------------------------------------------------------------------------------------------------------------------------------------------------------------------+-------------------------------------------------------------------------------------------+-----------------------------------------------------------------------------------------------------------------------------------------------+-------------------------------------------------------------------------------------------+-----------------------------------------------------------------------------------------------------------------------------------+-------------------------------------------------------------------------------------------+------------------------------------------------------------------------------------------------------------------------------------------------+-------------------------------------------------------------------------------------------+-----------------------------------------------------------------------------------------------------------------------------------+-------------------------------------------------------------------------------------------+----------------------------------------------------------------------------------------------------------------------------------------------+-------------------------------------------------------------------------------------------+------------------------------------------------------------------------------------------------------------------------------------+-------------------------------------------------------------------------------------------+-----------------------------------------------------------------------------------------------------------------------------------------------------------------+-------------------------------------------------------------------------------+------------------------------------------------------------------------------------------------------------------------------------------------------------------+-------------------------------------------------------------------------------+-----------------------------------------------------------------------------------------------------------------------------------------------+\n",
            "|top actors in Kyiv,Kyiv city,Ukraine               |https://nypost.com/2022/03/06/ukrainian-actor-who-played-soldier-takes-up-arms-vs-russians/|On Saturday, Russian troops advanced on the capital city of Kyiv as Ukrainian forces struggled to hold on to the city.                                            |https://nypost.com/2022/03/06/ukrainian-actor-who-played-soldier-takes-up-arms-vs-russians/|Top Kyiv Theaters: See reviews and photos of Theaters in Kyiv, Ukraine on Tripadvisor.                                                         |https://nypost.com/2022/03/06/ukrainian-actor-who-played-soldier-takes-up-arms-vs-russians/|The Hindi film's lead actor Liza is stuck in the city of Dnipro, southeast of the Ukrainian capital Kyiv, he said.                 |https://nypost.com/2022/03/06/ukrainian-actor-who-played-soldier-takes-up-arms-vs-russians/|Ukrainian President Volodymyr Zelensky met with Ben Stiller on Monday after the actor toured parts of the war-ravaged county, advocating for ...|https://nypost.com/2022/03/06/ukrainian-actor-who-played-soldier-takes-up-arms-vs-russians/|Ukrainian actor Roman Matsiyta was ready to fight once the war began. He has no hesitation when it comes to defending his homeland.|https://nypost.com/2022/03/06/ukrainian-actor-who-played-soldier-takes-up-arms-vs-russians/|Zelenskyy wrote on his social media page that Sean Penn is in Ukraine filming a movie about the war. He also said that Penn was in Ukraine ...|https://nypost.com/2022/03/06/ukrainian-actor-who-played-soldier-takes-up-arms-vs-russians/|From Ben Stiller to Jessica Chastain, celebrities have embraced Ukraine's president and offered support to the country's war effort.|https://nypost.com/2022/03/06/ukrainian-actor-who-played-soldier-takes-up-arms-vs-russians/|Alec Utgoff is a British actor best known for playing 'Alexei' in the Netflix hit show, ... Ivanna Sakhno was born on November 14, 1997 in Kiev, Ukraine.        |https://www.euronews.com/video/2022/06/28/us-actor-penn-meets-zelenskyy-in-kyiv|On Saturday, Russian troops advanced on the capital city of Kyiv as Ukrainian forces struggled to hold on to the city.                                            |https://www.euronews.com/video/2022/06/28/us-actor-penn-meets-zelenskyy-in-kyiv|Top Kyiv Theaters: See reviews and photos of Theaters in Kyiv, Ukraine on Tripadvisor.                                                         |\n",
            "|top actors in Greater London,England,United Kingdom|https://londranews.com/english/london-born-actors-many-of-very-different-origins/          |Our actors are our last great export — their clipped yet languid tones our only extant empire (and quite right, too.) The great cliche of the British actor of ...|https://londranews.com/english/london-born-actors-many-of-very-different-origins/          |Top 10 Celebrities Who Relocated to the UKSubscribe: https://www.youtube.com/c/watchmojouk?sub_confirmation=1These celebrities relocated to ...|https://londranews.com/english/london-born-actors-many-of-very-different-origins/          |Top 10 Most Influential British ActorsThese Brits changed the face of cinema for good! From character actors to method marvels, ...|https://londranews.com/english/london-born-actors-many-of-very-different-origins/          |There are many British actors especially if you include those who mainly work ... Charlie Chaplin , famous English actor, was born in 1600, ... |https://londranews.com/english/london-born-actors-many-of-very-different-origins/          |And we don't think that is going to change soon. Let's take a look at some handsome and extremely talented British/English actors. |https://londranews.com/english/london-born-actors-many-of-very-different-origins/          |The hot young British actors of 2020 with talent for miles that should be on your radar, from Josh O'Connor & Micheal Ward to Johnny Flynn ...|https://londranews.com/english/london-born-actors-many-of-very-different-origins/          |Keep Watching - Famous British Actors name list with image 2021 | British Male actors & English Actor. Tom Holland, Jason Statham.  |https://londranews.com/english/london-born-actors-many-of-very-different-origins/          |Vanessa Kirby is an English stage, TV, and film actress. From 2016 to 2018, Kirby portrayed Princess Margaret in Peter Morgan's Netflix series The Crown, for ...|https://www.entoin.com/entertainment/british-actors                            |Our actors are our last great export — their clipped yet languid tones our only extant empire (and quite right, too.) The great cliche of the British actor of ...|https://www.entoin.com/entertainment/british-actors                            |Top 10 Celebrities Who Relocated to the UKSubscribe: https://www.youtube.com/c/watchmojouk?sub_confirmation=1These celebrities relocated to ...|\n",
            "+---------------------------------------------------+-------------------------------------------------------------------------------------------+------------------------------------------------------------------------------------------------------------------------------------------------------------------+-------------------------------------------------------------------------------------------+-----------------------------------------------------------------------------------------------------------------------------------------------+-------------------------------------------------------------------------------------------+-----------------------------------------------------------------------------------------------------------------------------------+-------------------------------------------------------------------------------------------+------------------------------------------------------------------------------------------------------------------------------------------------+-------------------------------------------------------------------------------------------+-----------------------------------------------------------------------------------------------------------------------------------+-------------------------------------------------------------------------------------------+----------------------------------------------------------------------------------------------------------------------------------------------+-------------------------------------------------------------------------------------------+------------------------------------------------------------------------------------------------------------------------------------+-------------------------------------------------------------------------------------------+-----------------------------------------------------------------------------------------------------------------------------------------------------------------+-------------------------------------------------------------------------------+------------------------------------------------------------------------------------------------------------------------------------------------------------------+-------------------------------------------------------------------------------+-----------------------------------------------------------------------------------------------------------------------------------------------+\n",
            "\n"
          ]
        }
      ]
    },
    {
      "cell_type": "code",
      "source": [
        "#Finding number of rows and columns\n",
        "print(\"Number of rows and columns :\",(merged_df_1.count(),len(merged_df_1.columns)))"
      ],
      "metadata": {
        "colab": {
          "base_uri": "https://localhost:8080/"
        },
        "id": "17Lg7_dYQ1Rr",
        "outputId": "a2150d80-d858-441b-ccff-9934e0641f10"
      },
      "execution_count": null,
      "outputs": [
        {
          "output_type": "stream",
          "name": "stdout",
          "text": [
            "Number of rows and columns : (2, 21)\n"
          ]
        }
      ]
    }
  ]
}